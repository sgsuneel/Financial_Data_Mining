{
 "cells": [
  {
   "cell_type": "markdown",
   "metadata": {},
   "source": [
    "# Brushing up Pandas a bit"
   ]
  },
  {
   "cell_type": "code",
   "execution_count": 6,
   "metadata": {
    "collapsed": true
   },
   "outputs": [],
   "source": [
    "import pandas as pd\n",
    "import numpy as np\n",
    "import matplotlib.pyplot as plt\n",
    "%matplotlib inline\n",
    "\n",
    "pd.set_option('display.notebook_repr_html', False)\n",
    "pd.set_option('display.max_columns', 8)\n",
    "pd.set_option('display.max_rows', 8)\n",
    "\n",
    "plt.rcParams[\"figure.figsize\"] = (15,10)"
   ]
  },
  {
   "cell_type": "code",
   "execution_count": 7,
   "metadata": {
    "collapsed": false
   },
   "outputs": [
    {
     "data": {
      "text/plain": [
       "0     0.471435\n",
       "1    -1.190976\n",
       "2     1.432707\n",
       "3    -0.312652\n",
       "        ...   \n",
       "96   -0.344766\n",
       "97    0.528288\n",
       "98   -1.068989\n",
       "99   -0.511881\n",
       "dtype: float64"
      ]
     },
     "execution_count": 7,
     "metadata": {},
     "output_type": "execute_result"
    }
   ],
   "source": [
    "np.random.seed(1234)\n",
    "\n",
    "s = pd.Series(np.random.randn(100))\n",
    "s"
   ]
  },
  {
   "cell_type": "code",
   "execution_count": 8,
   "metadata": {
    "collapsed": false
   },
   "outputs": [
    {
     "data": {
      "text/plain": [
       "2     1.432707\n",
       "3    -0.312652\n",
       "4    -0.720589\n",
       "5     0.887163\n",
       "        ...   \n",
       "16    0.405453\n",
       "17    0.289092\n",
       "18    1.321158\n",
       "19   -1.546906\n",
       "dtype: float64"
      ]
     },
     "execution_count": 8,
     "metadata": {},
     "output_type": "execute_result"
    }
   ],
   "source": [
    "s[2:20]"
   ]
  },
  {
   "cell_type": "code",
   "execution_count": 9,
   "metadata": {
    "collapsed": false
   },
   "outputs": [
    {
     "data": {
      "text/plain": [
       "array([  4.71435164e-01,  -1.19097569e+00,   1.43270697e+00,\n",
       "        -3.12651896e-01,  -7.20588733e-01,   8.87162940e-01,\n",
       "         8.59588414e-01,  -6.36523504e-01,   1.56963721e-02,\n",
       "        -2.24268495e+00,   1.15003572e+00,   9.91946022e-01,\n",
       "         9.53324128e-01,  -2.02125482e+00,  -3.34077366e-01,\n",
       "         2.11836468e-03,   4.05453412e-01,   2.89091941e-01,\n",
       "         1.32115819e+00,  -1.54690555e+00,  -2.02646325e-01,\n",
       "        -6.55969344e-01,   1.93421376e-01,   5.53438911e-01,\n",
       "         1.31815155e+00,  -4.69305285e-01,   6.75554085e-01,\n",
       "        -1.81702723e+00,  -1.83108540e-01,   1.05896919e+00,\n",
       "        -3.97840228e-01,   3.37437654e-01,   1.04757857e+00,\n",
       "         1.04593826e+00,   8.63717292e-01,  -1.22091575e-01,\n",
       "         1.24712954e-01,  -3.22794806e-01,   8.41674713e-01,\n",
       "         2.39096052e+00,   7.61995878e-02,  -5.66445930e-01,\n",
       "         3.61419367e-02,  -2.07497760e+00,   2.47792200e-01,\n",
       "        -8.97156784e-01,  -1.36794833e-01,   1.82891913e-02,\n",
       "         7.55413982e-01,   2.15268581e-01,   8.41008795e-01,\n",
       "        -1.44581008e+00,  -1.40197328e+00,  -1.00918200e-01,\n",
       "        -5.48242449e-01,  -1.44619508e-01,   3.54020332e-01,\n",
       "        -3.55130253e-02,   5.65738306e-01,   1.54565880e+00,\n",
       "        -9.74236334e-01,  -7.03448771e-02,   3.07968855e-01,\n",
       "        -2.08498763e-01,   1.03380073e+00,  -2.40045363e+00,\n",
       "         2.03060362e+00,  -1.14263129e+00,   2.11883387e-01,\n",
       "         7.04720624e-01,  -7.85435212e-01,   4.62059737e-01,\n",
       "         7.04228225e-01,   5.23507968e-01,  -9.26254314e-01,\n",
       "         2.00784295e+00,   2.26962542e-01,  -1.15265911e+00,\n",
       "         6.31979446e-01,   3.95126867e-02,   4.64392325e-01,\n",
       "        -3.56351666e+00,   1.32110562e+00,   1.52630552e-01,\n",
       "         1.64529543e-01,  -4.30095691e-01,   7.67368736e-01,\n",
       "         9.84919842e-01,   2.70835849e-01,   1.39198619e+00,\n",
       "         7.98423130e-02,  -3.99964581e-01,  -1.02785056e+00,\n",
       "        -5.84718211e-01,   8.16593927e-01,  -8.19470518e-02,\n",
       "        -3.44766014e-01,   5.28288145e-01,  -1.06898878e+00,\n",
       "        -5.11881309e-01])"
      ]
     },
     "execution_count": 9,
     "metadata": {},
     "output_type": "execute_result"
    }
   ],
   "source": [
    "s.values"
   ]
  },
  {
   "cell_type": "code",
   "execution_count": 10,
   "metadata": {
    "collapsed": false
   },
   "outputs": [
    {
     "data": {
      "text/plain": [
       "Int64Index([ 0,  1,  2,  3,  4,  5,  6,  7,  8,  9, 10, 11, 12, 13, 14, 15, 16,\n",
       "            17, 18, 19, 20, 21, 22, 23, 24, 25, 26, 27, 28, 29, 30, 31, 32, 33,\n",
       "            34, 35, 36, 37, 38, 39, 40, 41, 42, 43, 44, 45, 46, 47, 48, 49, 50,\n",
       "            51, 52, 53, 54, 55, 56, 57, 58, 59, 60, 61, 62, 63, 64, 65, 66, 67,\n",
       "            68, 69, 70, 71, 72, 73, 74, 75, 76, 77, 78, 79, 80, 81, 82, 83, 84,\n",
       "            85, 86, 87, 88, 89, 90, 91, 92, 93, 94, 95, 96, 97, 98, 99],\n",
       "           dtype='int64')"
      ]
     },
     "execution_count": 10,
     "metadata": {},
     "output_type": "execute_result"
    }
   ],
   "source": [
    "s.index"
   ]
  },
  {
   "cell_type": "code",
   "execution_count": 11,
   "metadata": {
    "collapsed": false
   },
   "outputs": [
    {
     "data": {
      "text/plain": [
       "100"
      ]
     },
     "execution_count": 11,
     "metadata": {},
     "output_type": "execute_result"
    }
   ],
   "source": [
    "len(s)"
   ]
  },
  {
   "cell_type": "code",
   "execution_count": 12,
   "metadata": {
    "collapsed": false
   },
   "outputs": [
    {
     "data": {
      "text/plain": [
       "(100,)"
      ]
     },
     "execution_count": 12,
     "metadata": {},
     "output_type": "execute_result"
    }
   ],
   "source": [
    "s.shape"
   ]
  },
  {
   "cell_type": "code",
   "execution_count": 13,
   "metadata": {
    "collapsed": false
   },
   "outputs": [
    {
     "data": {
      "text/plain": [
       "<bound method Series.count of 0     0.471435\n",
       "1    -1.190976\n",
       "2     1.432707\n",
       "3    -0.312652\n",
       "        ...   \n",
       "96   -0.344766\n",
       "97    0.528288\n",
       "98   -1.068989\n",
       "99   -0.511881\n",
       "dtype: float64>"
      ]
     },
     "execution_count": 13,
     "metadata": {},
     "output_type": "execute_result"
    }
   ],
   "source": [
    "s.count"
   ]
  },
  {
   "cell_type": "code",
   "execution_count": 14,
   "metadata": {
    "collapsed": false
   },
   "outputs": [
    {
     "data": {
      "text/plain": [
       "array([  4.71435164e-01,  -1.19097569e+00,   1.43270697e+00,\n",
       "        -3.12651896e-01,  -7.20588733e-01,   8.87162940e-01,\n",
       "         8.59588414e-01,  -6.36523504e-01,   1.56963721e-02,\n",
       "        -2.24268495e+00,   1.15003572e+00,   9.91946022e-01,\n",
       "         9.53324128e-01,  -2.02125482e+00,  -3.34077366e-01,\n",
       "         2.11836468e-03,   4.05453412e-01,   2.89091941e-01,\n",
       "         1.32115819e+00,  -1.54690555e+00,  -2.02646325e-01,\n",
       "        -6.55969344e-01,   1.93421376e-01,   5.53438911e-01,\n",
       "         1.31815155e+00,  -4.69305285e-01,   6.75554085e-01,\n",
       "        -1.81702723e+00,  -1.83108540e-01,   1.05896919e+00,\n",
       "        -3.97840228e-01,   3.37437654e-01,   1.04757857e+00,\n",
       "         1.04593826e+00,   8.63717292e-01,  -1.22091575e-01,\n",
       "         1.24712954e-01,  -3.22794806e-01,   8.41674713e-01,\n",
       "         2.39096052e+00,   7.61995878e-02,  -5.66445930e-01,\n",
       "         3.61419367e-02,  -2.07497760e+00,   2.47792200e-01,\n",
       "        -8.97156784e-01,  -1.36794833e-01,   1.82891913e-02,\n",
       "         7.55413982e-01,   2.15268581e-01,   8.41008795e-01,\n",
       "        -1.44581008e+00,  -1.40197328e+00,  -1.00918200e-01,\n",
       "        -5.48242449e-01,  -1.44619508e-01,   3.54020332e-01,\n",
       "        -3.55130253e-02,   5.65738306e-01,   1.54565880e+00,\n",
       "        -9.74236334e-01,  -7.03448771e-02,   3.07968855e-01,\n",
       "        -2.08498763e-01,   1.03380073e+00,  -2.40045363e+00,\n",
       "         2.03060362e+00,  -1.14263129e+00,   2.11883387e-01,\n",
       "         7.04720624e-01,  -7.85435212e-01,   4.62059737e-01,\n",
       "         7.04228225e-01,   5.23507968e-01,  -9.26254314e-01,\n",
       "         2.00784295e+00,   2.26962542e-01,  -1.15265911e+00,\n",
       "         6.31979446e-01,   3.95126867e-02,   4.64392325e-01,\n",
       "        -3.56351666e+00,   1.32110562e+00,   1.52630552e-01,\n",
       "         1.64529543e-01,  -4.30095691e-01,   7.67368736e-01,\n",
       "         9.84919842e-01,   2.70835849e-01,   1.39198619e+00,\n",
       "         7.98423130e-02,  -3.99964581e-01,  -1.02785056e+00,\n",
       "        -5.84718211e-01,   8.16593927e-01,  -8.19470518e-02,\n",
       "        -3.44766014e-01,   5.28288145e-01,  -1.06898878e+00,\n",
       "        -5.11881309e-01])"
      ]
     },
     "execution_count": 14,
     "metadata": {},
     "output_type": "execute_result"
    }
   ],
   "source": [
    "s.unique()"
   ]
  },
  {
   "cell_type": "code",
   "execution_count": 15,
   "metadata": {
    "collapsed": false
   },
   "outputs": [
    {
     "data": {
      "text/plain": [
       "<bound method Series.unique of 0     0.471435\n",
       "1    -1.190976\n",
       "2     1.432707\n",
       "3    -0.312652\n",
       "        ...   \n",
       "96   -0.344766\n",
       "97    0.528288\n",
       "98   -1.068989\n",
       "99   -0.511881\n",
       "dtype: float64>"
      ]
     },
     "execution_count": 15,
     "metadata": {},
     "output_type": "execute_result"
    }
   ],
   "source": [
    "s.unique"
   ]
  },
  {
   "cell_type": "code",
   "execution_count": 16,
   "metadata": {
    "collapsed": false
   },
   "outputs": [
    {
     "data": {
      "text/plain": [
       " 1.058969    1\n",
       "-2.074978    1\n",
       "-0.397840    1\n",
       " 0.036142    1\n",
       "            ..\n",
       " 0.215269    1\n",
       "-1.068989    1\n",
       " 0.307969    1\n",
       " 1.047579    1\n",
       "dtype: int64"
      ]
     },
     "execution_count": 16,
     "metadata": {},
     "output_type": "execute_result"
    }
   ],
   "source": [
    "s.value_counts()"
   ]
  },
  {
   "cell_type": "code",
   "execution_count": 17,
   "metadata": {
    "collapsed": false
   },
   "outputs": [
    {
     "data": {
      "text/plain": [
       "a    12\n",
       "b    45\n",
       "c    85\n",
       "d     4\n",
       "e    47\n",
       "f    58\n",
       "dtype: int64"
      ]
     },
     "execution_count": 17,
     "metadata": {},
     "output_type": "execute_result"
    }
   ],
   "source": [
    "s2 = pd.Series([12,45,85,4,47,58], index=['a','b','c','d','e','f'])\n",
    "s2"
   ]
  },
  {
   "cell_type": "code",
   "execution_count": 18,
   "metadata": {
    "collapsed": false
   },
   "outputs": [
    {
     "data": {
      "text/plain": [
       "    0   1\n",
       "0  10  11\n",
       "1  20  21"
      ]
     },
     "execution_count": 18,
     "metadata": {},
     "output_type": "execute_result"
    }
   ],
   "source": [
    "pd.DataFrame(np.array([[10, 11], [20, 21]]))"
   ]
  },
  {
   "cell_type": "code",
   "execution_count": 19,
   "metadata": {
    "collapsed": false
   },
   "outputs": [
    {
     "data": {
      "text/plain": [
       "    0   1   2   3   4\n",
       "0  10  11  12  13  14\n",
       "1  15  16  17  18  19"
      ]
     },
     "execution_count": 19,
     "metadata": {},
     "output_type": "execute_result"
    }
   ],
   "source": [
    "df1 = pd.DataFrame([pd.Series(np.arange(10, 15)),\n",
    "     pd.Series(np.arange(15, 20))])\n",
    "df1 # remember what the column names are"
   ]
  },
  {
   "cell_type": "code",
   "execution_count": 20,
   "metadata": {
    "collapsed": false
   },
   "outputs": [
    {
     "data": {
      "text/plain": [
       "(2, 5)"
      ]
     },
     "execution_count": 20,
     "metadata": {},
     "output_type": "execute_result"
    }
   ],
   "source": [
    "df1.shape"
   ]
  },
  {
   "cell_type": "code",
   "execution_count": 21,
   "metadata": {
    "collapsed": false
   },
   "outputs": [
    {
     "data": {
      "text/plain": [
       "    a   b\n",
       "0  10  11\n",
       "1  20  21"
      ]
     },
     "execution_count": 21,
     "metadata": {},
     "output_type": "execute_result"
    }
   ],
   "source": [
    "df = pd.DataFrame(np.array([[10, 11], [20, 21]]),\n",
    "     columns=['a', 'b'])\n",
    "df # What are the column names here?"
   ]
  },
  {
   "cell_type": "code",
   "execution_count": 22,
   "metadata": {
    "collapsed": false
   },
   "outputs": [
    {
     "data": {
      "text/plain": [
       "Index(['a', 'b'], dtype='object')"
      ]
     },
     "execution_count": 22,
     "metadata": {},
     "output_type": "execute_result"
    }
   ],
   "source": [
    "df.columns"
   ]
  },
  {
   "cell_type": "code",
   "execution_count": 23,
   "metadata": {
    "collapsed": false
   },
   "outputs": [
    {
     "data": {
      "text/plain": [
       "   c1  c2\n",
       "0  10  11\n",
       "1  20  21"
      ]
     },
     "execution_count": 23,
     "metadata": {},
     "output_type": "execute_result"
    }
   ],
   "source": [
    "df.columns = ['c1', 'c2']\n",
    "df"
   ]
  },
  {
   "cell_type": "code",
   "execution_count": 24,
   "metadata": {
    "collapsed": false
   },
   "outputs": [
    {
     "data": {
      "text/plain": [
       "Index(['c1', 'c2'], dtype='object')"
      ]
     },
     "execution_count": 24,
     "metadata": {},
     "output_type": "execute_result"
    }
   ],
   "source": [
    "df.columns"
   ]
  },
  {
   "cell_type": "code",
   "execution_count": 25,
   "metadata": {
    "collapsed": false
   },
   "outputs": [
    {
     "data": {
      "text/plain": [
       "array([[10, 11],\n",
       "       [20, 21]])"
      ]
     },
     "execution_count": 25,
     "metadata": {},
     "output_type": "execute_result"
    }
   ],
   "source": [
    "df.values"
   ]
  },
  {
   "cell_type": "code",
   "execution_count": 26,
   "metadata": {
    "collapsed": false
   },
   "outputs": [
    {
     "data": {
      "text/plain": [
       "   c1  c2\n",
       "0   1   6\n",
       "1   2   7\n",
       "2   3   8\n",
       "3   4   9\n",
       "4   5  10"
      ]
     },
     "execution_count": 26,
     "metadata": {},
     "output_type": "execute_result"
    }
   ],
   "source": [
    "s1 = pd.Series(np.arange(1, 6, 1))\n",
    "s2 = pd.Series(np.arange(6, 11, 1))\n",
    "pd.DataFrame({'c1': s1, 'c2': s2})"
   ]
  },
  {
   "cell_type": "code",
   "execution_count": 27,
   "metadata": {
    "collapsed": false
   },
   "outputs": [
    {
     "data": {
      "text/plain": [
       "   c1  c2  c3\n",
       "0   1   6 NaN\n",
       "1   2   7  12\n",
       "2   3   8  13\n",
       "3   4   9 NaN\n",
       "4   5  10 NaN"
      ]
     },
     "execution_count": 27,
     "metadata": {},
     "output_type": "execute_result"
    }
   ],
   "source": [
    "s3 = pd.Series(np.arange(12, 14), index=[1, 2])\n",
    "pd.DataFrame({'c1': s1, 'c2': s2, 'c3': s3})"
   ]
  }
 ],
 "metadata": {
  "kernelspec": {
   "display_name": "Python 3",
   "language": "python",
   "name": "python3"
  },
  "language_info": {
   "codemirror_mode": {
    "name": "ipython",
    "version": 3
   },
   "file_extension": ".py",
   "mimetype": "text/x-python",
   "name": "python",
   "nbconvert_exporter": "python",
   "pygments_lexer": "ipython3",
   "version": "3.4.3"
  }
 },
 "nbformat": 4,
 "nbformat_minor": 0
}
